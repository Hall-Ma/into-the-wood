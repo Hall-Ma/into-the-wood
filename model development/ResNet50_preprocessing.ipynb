{
  "nbformat": 4,
  "nbformat_minor": 0,
  "metadata": {
    "colab": {
      "name": "ResNet50_preprocessing.ipynb",
      "provenance": [],
      "machine_shape": "hm"
    },
    "kernelspec": {
      "name": "python3",
      "display_name": "Python 3"
    },
    "language_info": {
      "name": "python"
    },
    "accelerator": "GPU"
  },
  "cells": [
    {
      "cell_type": "code",
      "execution_count": 11,
      "metadata": {
        "id": "Rff-O_-AdQlk"
      },
      "outputs": [],
      "source": [
        "import matplotlib.pyplot as plt\n",
        "import tensorflow as tf\n",
        "from tensorflow.keras import layers\n",
        "from tensorflow.keras.layers import Dense, Flatten\n",
        "from tensorflow.keras.models import Sequential\n",
        "from tensorflow.keras.optimizers import Adam\n",
        "from tensorflow.keras.applications import ResNet50\n",
        "from tensorflow.keras.models import Sequential\n",
        "from tensorflow.keras.layers import Dense\n",
        "from tensorflow.keras.applications.resnet50 import preprocess_input\n",
        "from keras.preprocessing.image import ImageDataGenerator\n",
        "\n",
        "# Also tried:\n",
        "# from tensorflow.keras.applications import VGG16\n",
        "# from tensorflow.keras.applications import VGG19\n",
        "# from tensorflow.keras.applications import Inception_V3"
      ]
    },
    {
      "cell_type": "code",
      "source": [
        "# 6 classes to predict\n",
        "NUM_CLASSES = 6\n",
        "\n",
        "# RGB Channel\n",
        "CHANNELS = 3\n",
        "\n",
        "IMAGE_RESIZE = 224\n",
        "RESNET50_POOLING_AVERAGE = 'avg'\n",
        "DENSE_LAYER_ACTIVATION = 'softmax'\n",
        "OPTIMIZER = Adam(lr=0.001)\n",
        "OBJECTIVE_FUNCTION = 'categorical_crossentropy'\n",
        "LOSS_METRICS = ['accuracy']\n",
        "\n",
        "# Also tested 4, 8 and 16 batches\n",
        "BATCH_SIZE_TRAINING = 16\n",
        "BATCH_SIZE_VALIDATION = 16\n",
        "BATCH_SIZE_TEST = 16\n",
        "EPOCHS = 20"
      ],
      "metadata": {
        "id": "JxkqXdOvPKLa",
        "colab": {
          "base_uri": "https://localhost:8080/"
        },
        "outputId": "283732bc-9e3d-43b5-e6b3-60e327b09553"
      },
      "execution_count": 4,
      "outputs": [
        {
          "output_type": "stream",
          "name": "stderr",
          "text": [
            "/usr/local/lib/python3.7/dist-packages/keras/optimizer_v2/adam.py:105: UserWarning: The `lr` argument is deprecated, use `learning_rate` instead.\n",
            "  super(Adam, self).__init__(name, **kwargs)\n"
          ]
        }
      ]
    },
    {
      "cell_type": "code",
      "source": [
        "# Compose model\n",
        "model = Sequential()\n",
        "\n",
        "model.add(ResNet50(include_top = False, pooling = RESNET50_POOLING_AVERAGE, weights = 'imagenet'))\n",
        "model.add(Dense(NUM_CLASSES, activation = DENSE_LAYER_ACTIVATION))\n",
        "\n",
        "# Set first layer not to train because (ResNet) model is already trained\n",
        "model.layers[0].trainable = False\n",
        "\n",
        "# Also tried a bit fine-tuning but the results were not so good:\n",
        "# model.add(Flatten())\n",
        "# model.add(Dense(512, activation='relu'))\n",
        "# model.add(Dense(NUM_CLASSES, activation = DENSE_LAYER_ACTIVATION))"
      ],
      "metadata": {
        "colab": {
          "base_uri": "https://localhost:8080/"
        },
        "id": "zbYLwLglPOmg",
        "outputId": "3f5c4d27-b587-4e9c-ca8c-59c39ba6b79e"
      },
      "execution_count": 5,
      "outputs": [
        {
          "output_type": "stream",
          "name": "stdout",
          "text": [
            "Downloading data from https://storage.googleapis.com/tensorflow/keras-applications/resnet/resnet50_weights_tf_dim_ordering_tf_kernels_notop.h5\n",
            "94773248/94765736 [==============================] - 0s 0us/step\n",
            "94781440/94765736 [==============================] - 0s 0us/step\n"
          ]
        }
      ]
    },
    {
      "cell_type": "code",
      "source": [
        "\"\"\" \n",
        "Also tried a bit fine-tuning but the results were not so good:\n",
        "1st try:\n",
        "model = Sequential()\n",
        "model.add(ResNet50(include_top = False, pooling = RESNET50_POOLING_AVERAGE, weights = 'imagenet'))\n",
        "model.add(Flatten())\n",
        "model.add(Dense(512, activation='relu'))\n",
        "model.add(Dense(NUM_CLASSES, activation = DENSE_LAYER_ACTIVATION))\n",
        "\n",
        "---------------------------------------------------------------------------------------------------\n",
        "\n",
        "2nd try:\n",
        "pre_trained_model = ResNet50(include_top = False, weights = 'imagenet')\n",
        "\n",
        "for layer in pre_trained_model.layers:\n",
        "     layer.trainable = False\n",
        "     last_layer = pre_trained_model.get_layer('conv5_block3_out')\n",
        "\n",
        "last_output = last_layer.output\n",
        "\n",
        "x = layers.Flatten()(last_output)\n",
        "x = layers.Dense(1024, activation='relu')(x)\n",
        "x = layers.Dropout(0.2)(x)                  \n",
        "x = layers.Dense(6, activation='softmax')(x)\n",
        "\n",
        "model = Model(pre_trained_model.input, x) \n",
        "\"\"\""
      ],
      "metadata": {
        "id": "yeZmsoO-ZANJ"
      },
      "execution_count": null,
      "outputs": []
    },
    {
      "cell_type": "code",
      "source": [
        "# preprocessing_function is applied on each image but only after re-sizing & augmentation (resize => augment => pre-process)\n",
        "# Each of the keras.application.resnet* preprocess_input MOSTLY mean BATCH NORMALIZATION (applied on each batch) stabilize the inputs to nonlinear activation functions\n",
        "data_generator = ImageDataGenerator(preprocessing_function=preprocess_input)\n",
        "\n",
        "# flow_From_directory generates batches of augmented data (where augmentation can be color conversion, etc)\n",
        "train_generator = data_generator.flow_from_directory(\n",
        "    '/content/drive/MyDrive/eigene_Blaettersammlung/train',\n",
        "        target_size=(IMAGE_RESIZE, IMAGE_RESIZE),\n",
        "        batch_size=BATCH_SIZE_TRAINING,\n",
        "        class_mode='categorical')\n",
        "\n",
        "validation_generator = data_generator.flow_from_directory(\n",
        "        '/content/drive/MyDrive/eigene_Blaettersammlung/val',\n",
        "        target_size=(IMAGE_RESIZE, IMAGE_RESIZE),\n",
        "        batch_size=BATCH_SIZE_VALIDATION,\n",
        "        class_mode='categorical') \n",
        "\n",
        "test_ds = data_generator.flow_from_directory(\n",
        "        '/content/drive/MyDrive/eigene_Blaettersammlung/test',\n",
        "        target_size=(IMAGE_RESIZE, IMAGE_RESIZE),\n",
        "        batch_size=BATCH_SIZE_TEST,\n",
        "        class_mode='categorical')"
      ],
      "metadata": {
        "colab": {
          "base_uri": "https://localhost:8080/"
        },
        "id": "EJGy3O-APrjz",
        "outputId": "f440a6f3-9e91-4811-ea8d-8468d1567ddd"
      },
      "execution_count": 6,
      "outputs": [
        {
          "output_type": "stream",
          "name": "stdout",
          "text": [
            "Found 1253 images belonging to 6 classes.\n",
            "Found 156 images belonging to 6 classes.\n",
            "Found 159 images belonging to 6 classes.\n"
          ]
        }
      ]
    },
    {
      "cell_type": "code",
      "source": [
        "# Model development ends when loss does not improve after 5 epochs\n",
        "from tensorflow import keras\n",
        "\n",
        "early_stopping = keras.callbacks.EarlyStopping(\n",
        "    monitor=\"val_loss\",\n",
        "    patience=5,\n",
        ")"
      ],
      "metadata": {
        "id": "Ge8nO7ZapxHL"
      },
      "execution_count": 9,
      "outputs": []
    },
    {
      "cell_type": "code",
      "source": [
        "# Run model\n",
        "model.compile(optimizer=OPTIMIZER, loss=OBJECTIVE_FUNCTION, metrics=LOSS_METRICS)\n",
        "\n",
        "history = model.fit(train_generator, validation_data=validation_generator, callbacks=[early_stopping], epochs=EPOCHS)"
      ],
      "metadata": {
        "colab": {
          "base_uri": "https://localhost:8080/"
        },
        "id": "YRaOKexbqJmB",
        "outputId": "b7b80bc1-04bb-4e31-d881-aaadf2d30422"
      },
      "execution_count": 10,
      "outputs": [
        {
          "output_type": "stream",
          "name": "stdout",
          "text": [
            "Epoch 1/20\n",
            "79/79 [==============================] - 598s 7s/step - loss: 0.6063 - accuracy: 0.8300 - val_loss: 0.2830 - val_accuracy: 0.9231\n",
            "Epoch 2/20\n",
            "79/79 [==============================] - 163s 2s/step - loss: 0.1060 - accuracy: 0.9904 - val_loss: 0.1664 - val_accuracy: 0.9679\n",
            "Epoch 3/20\n",
            "79/79 [==============================] - 163s 2s/step - loss: 0.0629 - accuracy: 0.9936 - val_loss: 0.1800 - val_accuracy: 0.9167\n",
            "Epoch 4/20\n",
            "79/79 [==============================] - 163s 2s/step - loss: 0.0388 - accuracy: 0.9976 - val_loss: 0.1266 - val_accuracy: 0.9615\n",
            "Epoch 5/20\n",
            "79/79 [==============================] - 161s 2s/step - loss: 0.0274 - accuracy: 0.9992 - val_loss: 0.1397 - val_accuracy: 0.9487\n",
            "Epoch 6/20\n",
            "79/79 [==============================] - 160s 2s/step - loss: 0.0211 - accuracy: 0.9992 - val_loss: 0.1105 - val_accuracy: 0.9615\n",
            "Epoch 7/20\n",
            "79/79 [==============================] - 160s 2s/step - loss: 0.0164 - accuracy: 1.0000 - val_loss: 0.1197 - val_accuracy: 0.9487\n",
            "Epoch 8/20\n",
            "79/79 [==============================] - 160s 2s/step - loss: 0.0134 - accuracy: 1.0000 - val_loss: 0.0951 - val_accuracy: 0.9615\n",
            "Epoch 9/20\n",
            "79/79 [==============================] - 160s 2s/step - loss: 0.0112 - accuracy: 1.0000 - val_loss: 0.0908 - val_accuracy: 0.9615\n",
            "Epoch 10/20\n",
            "79/79 [==============================] - 160s 2s/step - loss: 0.0095 - accuracy: 1.0000 - val_loss: 0.0950 - val_accuracy: 0.9615\n",
            "Epoch 11/20\n",
            "79/79 [==============================] - 160s 2s/step - loss: 0.0083 - accuracy: 1.0000 - val_loss: 0.0820 - val_accuracy: 0.9679\n",
            "Epoch 12/20\n",
            "79/79 [==============================] - 161s 2s/step - loss: 0.0071 - accuracy: 1.0000 - val_loss: 0.0816 - val_accuracy: 0.9679\n",
            "Epoch 13/20\n",
            "79/79 [==============================] - 160s 2s/step - loss: 0.0061 - accuracy: 1.0000 - val_loss: 0.0858 - val_accuracy: 0.9679\n",
            "Epoch 14/20\n",
            "79/79 [==============================] - 160s 2s/step - loss: 0.0053 - accuracy: 1.0000 - val_loss: 0.0769 - val_accuracy: 0.9744\n",
            "Epoch 15/20\n",
            "79/79 [==============================] - 160s 2s/step - loss: 0.0048 - accuracy: 1.0000 - val_loss: 0.0794 - val_accuracy: 0.9744\n",
            "Epoch 16/20\n",
            "79/79 [==============================] - 163s 2s/step - loss: 0.0044 - accuracy: 1.0000 - val_loss: 0.0824 - val_accuracy: 0.9679\n",
            "Epoch 17/20\n",
            "79/79 [==============================] - 167s 2s/step - loss: 0.0040 - accuracy: 1.0000 - val_loss: 0.0766 - val_accuracy: 0.9679\n",
            "Epoch 18/20\n",
            "79/79 [==============================] - 167s 2s/step - loss: 0.0036 - accuracy: 1.0000 - val_loss: 0.0757 - val_accuracy: 0.9679\n",
            "Epoch 19/20\n",
            "79/79 [==============================] - 163s 2s/step - loss: 0.0032 - accuracy: 1.0000 - val_loss: 0.0728 - val_accuracy: 0.9679\n",
            "Epoch 20/20\n",
            "79/79 [==============================] - 161s 2s/step - loss: 0.0030 - accuracy: 1.0000 - val_loss: 0.0755 - val_accuracy: 0.9679\n"
          ]
        }
      ]
    },
    {
      "cell_type": "code",
      "source": [
        "# Visualize training results\n",
        "acc = history.history['accuracy']\n",
        "val_acc = history.history['val_accuracy']\n",
        "\n",
        "loss = history.history['loss']\n",
        "val_loss = history.history['val_loss']\n",
        "\n",
        "epochs_range = range(EPOCHS)\n",
        "\n",
        "plt.figure(figsize=(8, 8))\n",
        "plt.subplot(1, 2, 1)\n",
        "plt.plot(epochs_range, acc, label='Training Accuracy')\n",
        "plt.plot(epochs_range, val_acc, label='Validation Accuracy')\n",
        "plt.legend(loc='lower right')\n",
        "plt.title('Training and Validation Accuracy')\n",
        "\n",
        "plt.subplot(1, 2, 2)\n",
        "plt.plot(epochs_range, loss, label='Training Loss')\n",
        "plt.plot(epochs_range, val_loss, label='Validation Loss')\n",
        "plt.legend(loc='upper right')\n",
        "plt.title('Training and Validation Loss')\n",
        "plt.show()"
      ],
      "metadata": {
        "colab": {
          "base_uri": "https://localhost:8080/",
          "height": 499
        },
        "id": "dKXtLPErqd75",
        "outputId": "6ea7db63-71f1-4d5f-b9e1-7df6693053b3"
      },
      "execution_count": null,
      "outputs": [
        {
          "output_type": "display_data",
          "data": {
            "text/plain": [
              "<Figure size 576x576 with 2 Axes>"
            ],
            "image/png": "[encoded data removed]"
          },
          "metadata": {
            "needs_background": "light"
          }
        }
      ]
    },
    {
      "cell_type": "code",
      "source": [
        "# Model evaluation\n",
        "model.evaluate(test_ds)"
      ],
      "metadata": {
        "colab": {
          "base_uri": "https://localhost:8080/"
        },
        "id": "mLCEqot2cP2_",
        "outputId": "8033e8a2-8a4e-456a-b74f-5de9a9819de1"
      },
      "execution_count": 12,
      "outputs": [
        {
          "output_type": "stream",
          "name": "stdout",
          "text": [
            "10/10 [==============================] - 68s 7s/step - loss: 0.1360 - accuracy: 0.9497\n"
          ]
        },
        {
          "output_type": "execute_result",
          "data": {
            "text/plain": [
              "[0.1359800100326538, 0.9496855139732361]"
            ]
          },
          "metadata": {},
          "execution_count": 12
        }
      ]
    },
    {
      "cell_type": "code",
      "source": [
        "# Save Model\n",
        "model.save('resNet50_16_new.h5')"
      ],
      "metadata": {
        "id": "nhOiJ7H6zo6P"
      },
      "execution_count": 13,
      "outputs": []
    }
  ]
}